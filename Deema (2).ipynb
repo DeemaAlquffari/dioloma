{
  "nbformat": 4,
  "nbformat_minor": 0,
  "metadata": {
    "colab": {
      "provenance": [],
      "gpuType": "T4"
    },
    "kernelspec": {
      "name": "python3",
      "display_name": "Python 3"
    },
    "language_info": {
      "name": "python"
    },
    "accelerator": "GPU"
  },
  "cells": [
    {
      "cell_type": "markdown",
      "source": [
        "This dataset contains detailed records of yellow taxi trips in New York City during January 2023\n",
        "\n",
        "Rows: 3,066,766\n",
        "Columns: 19\n",
        "\n"
      ],
      "metadata": {
        "id": "p7jrNjw2bmJR"
      }
    },
    {
      "cell_type": "code",
      "source": [
        "import cudf\n",
        "import cuml\n",
        "import cupy as cp\n",
        "from cuml.ensemble import RandomForestRegressor as cuRF\n",
        "from cuml.metrics import mean_squared_error\n",
        "import numpy as np\n",
        "import tracemalloc\n",
        "import pandas as pd\n",
        "import xgboost as xgb\n",
        "from cuml.preprocessing import StandardScaler\n",
        "import os\n",
        "\n",
        "\n"
      ],
      "metadata": {
        "id": "USiZBpslj4R7"
      },
      "execution_count": 12,
      "outputs": []
    },
    {
      "cell_type": "code",
      "source": [
        "if not os.path.exists('data'):\n",
        "    os.makedirs('data')\n"
      ],
      "metadata": {
        "id": "mMNv6gDzxOGZ"
      },
      "execution_count": 13,
      "outputs": []
    },
    {
      "cell_type": "code",
      "source": [
        "!wget -P data https://d37ci6vzurychx.cloudfront.net/trip-data/yellow_tripdata_2023-01.parquet\n"
      ],
      "metadata": {
        "colab": {
          "base_uri": "https://localhost:8080/"
        },
        "id": "z7j2ZVXVbYMH",
        "outputId": "5e78362a-7003-4e0a-b298-58cef8af6677"
      },
      "execution_count": 14,
      "outputs": [
        {
          "output_type": "stream",
          "name": "stdout",
          "text": [
            "--2025-04-17 12:42:12--  https://d37ci6vzurychx.cloudfront.net/trip-data/yellow_tripdata_2023-01.parquet\n",
            "Resolving d37ci6vzurychx.cloudfront.net (d37ci6vzurychx.cloudfront.net)... 18.239.38.147, 18.239.38.83, 18.239.38.163, ...\n",
            "Connecting to d37ci6vzurychx.cloudfront.net (d37ci6vzurychx.cloudfront.net)|18.239.38.147|:443... connected.\n",
            "HTTP request sent, awaiting response... 200 OK\n",
            "Length: 47673370 (45M) [application/x-www-form-urlencoded]\n",
            "Saving to: ‘data/yellow_tripdata_2023-01.parquet’\n",
            "\n",
            "\r          yellow_tr   0%[                    ]       0  --.-KB/s               \ryellow_tripdata_202 100%[===================>]  45.46M  --.-KB/s    in 0.1s    \n",
            "\n",
            "2025-04-17 12:42:12 (319 MB/s) - ‘data/yellow_tripdata_2023-01.parquet’ saved [47673370/47673370]\n",
            "\n"
          ]
        }
      ]
    },
    {
      "cell_type": "markdown",
      "source": [
        "\n",
        "# Load data"
      ],
      "metadata": {
        "id": "CzYGrf1b1UQX"
      }
    },
    {
      "cell_type": "code",
      "source": [
        "!ls data\n",
        "\n",
        "df = cudf.read_parquet('data/yellow_tripdata_2023-01.parquet')\n",
        "\n",
        "df.info()\n",
        "df.head(20)"
      ],
      "metadata": {
        "colab": {
          "base_uri": "https://localhost:8080/",
          "height": 1000
        },
        "id": "i8DY7DEdbe_E",
        "outputId": "2cf7ac31-f7cc-43f6-f34f-90cb2776a4de"
      },
      "execution_count": 15,
      "outputs": [
        {
          "output_type": "stream",
          "name": "stdout",
          "text": [
            "yellow_tripdata_2023-01.parquet\n",
            "<class 'cudf.core.dataframe.DataFrame'>\n",
            "RangeIndex: 3066766 entries, 0 to 3066765\n",
            "Data columns (total 19 columns):\n",
            " #   Column                 Dtype\n",
            "---  ------                 -----\n",
            " 0   VendorID               int64\n",
            " 1   tpep_pickup_datetime   datetime64[us]\n",
            " 2   tpep_dropoff_datetime  datetime64[us]\n",
            " 3   passenger_count        float64\n",
            " 4   trip_distance          float64\n",
            " 5   RatecodeID             float64\n",
            " 6   store_and_fwd_flag     object\n",
            " 7   PULocationID           int64\n",
            " 8   DOLocationID           int64\n",
            " 9   payment_type           int64\n",
            " 10  fare_amount            float64\n",
            " 11  extra                  float64\n",
            " 12  mta_tax                float64\n",
            " 13  tip_amount             float64\n",
            " 14  tolls_amount           float64\n",
            " 15  improvement_surcharge  float64\n",
            " 16  total_amount           float64\n",
            " 17  congestion_surcharge   float64\n",
            " 18  airport_fee            float64\n",
            "dtypes: datetime64[us](2), float64(12), int64(4), object(1)\n",
            "memory usage: 437.5+ MB\n"
          ]
        },
        {
          "output_type": "execute_result",
          "data": {
            "text/plain": [
              "    VendorID tpep_pickup_datetime tpep_dropoff_datetime  passenger_count  \\\n",
              "0          2  2023-01-01 00:32:10   2023-01-01 00:40:36              1.0   \n",
              "1          2  2023-01-01 00:55:08   2023-01-01 01:01:27              1.0   \n",
              "2          2  2023-01-01 00:25:04   2023-01-01 00:37:49              1.0   \n",
              "3          1  2023-01-01 00:03:48   2023-01-01 00:13:25              0.0   \n",
              "4          2  2023-01-01 00:10:29   2023-01-01 00:21:19              1.0   \n",
              "5          2  2023-01-01 00:50:34   2023-01-01 01:02:52              1.0   \n",
              "6          2  2023-01-01 00:09:22   2023-01-01 00:19:49              1.0   \n",
              "7          2  2023-01-01 00:27:12   2023-01-01 00:49:56              1.0   \n",
              "8          2  2023-01-01 00:21:44   2023-01-01 00:36:40              1.0   \n",
              "9          2  2023-01-01 00:39:42   2023-01-01 00:50:36              1.0   \n",
              "10         2  2023-01-01 00:53:01   2023-01-01 01:01:45              1.0   \n",
              "11         1  2023-01-01 00:43:37   2023-01-01 01:17:18              4.0   \n",
              "12         2  2023-01-01 00:34:44   2023-01-01 01:04:25              1.0   \n",
              "13         2  2023-01-01 00:09:29   2023-01-01 00:29:23              2.0   \n",
              "14         2  2023-01-01 00:33:53   2023-01-01 00:49:15              1.0   \n",
              "15         2  2023-01-01 00:13:04   2023-01-01 00:22:10              1.0   \n",
              "16         2  2023-01-01 00:45:11   2023-01-01 01:07:39              1.0   \n",
              "17         1  2023-01-01 00:04:33   2023-01-01 00:19:22              1.0   \n",
              "18         1  2023-01-01 00:03:36   2023-01-01 00:09:36              3.0   \n",
              "19         1  2023-01-01 00:15:23   2023-01-01 00:29:41              2.0   \n",
              "\n",
              "    trip_distance  RatecodeID store_and_fwd_flag  PULocationID  DOLocationID  \\\n",
              "0            0.97         1.0                  N           161           141   \n",
              "1            1.10         1.0                  N            43           237   \n",
              "2            2.51         1.0                  N            48           238   \n",
              "3            1.90         1.0                  N           138             7   \n",
              "4            1.43         1.0                  N           107            79   \n",
              "5            1.84         1.0                  N           161           137   \n",
              "6            1.66         1.0                  N           239           143   \n",
              "7           11.70         1.0                  N           142           200   \n",
              "8            2.95         1.0                  N           164           236   \n",
              "9            3.01         1.0                  N           141           107   \n",
              "10           1.80         1.0                  N           234            68   \n",
              "11           7.30         1.0                  N            79           264   \n",
              "12           3.23         1.0                  N           164           143   \n",
              "13          11.43         1.0                  N           138            33   \n",
              "14           2.95         1.0                  N            33            61   \n",
              "15           1.52         1.0                  N            79           186   \n",
              "16           2.23         1.0                  N            90            48   \n",
              "17           4.50         1.0                  N           113           255   \n",
              "18           1.20         1.0                  N           237           239   \n",
              "19           2.50         1.0                  N           143           229   \n",
              "\n",
              "    payment_type  fare_amount  extra  mta_tax  tip_amount  tolls_amount  \\\n",
              "0              2          9.3   1.00      0.5        0.00           0.0   \n",
              "1              1          7.9   1.00      0.5        4.00           0.0   \n",
              "2              1         14.9   1.00      0.5       15.00           0.0   \n",
              "3              1         12.1   7.25      0.5        0.00           0.0   \n",
              "4              1         11.4   1.00      0.5        3.28           0.0   \n",
              "5              1         12.8   1.00      0.5       10.00           0.0   \n",
              "6              1         12.1   1.00      0.5        3.42           0.0   \n",
              "7              1         45.7   1.00      0.5       10.74           3.0   \n",
              "8              1         17.7   1.00      0.5        5.68           0.0   \n",
              "9              2         14.9   1.00      0.5        0.00           0.0   \n",
              "10             1         11.4   1.00      0.5        3.28           0.0   \n",
              "11             1         33.8   3.50      0.5        7.75           0.0   \n",
              "12             1         26.1   1.00      0.5        6.22           0.0   \n",
              "13             1         44.3   6.00      0.5       13.26           0.0   \n",
              "14             1         17.7   1.00      0.5        4.04           0.0   \n",
              "15             1         10.0   1.00      0.5        1.25           0.0   \n",
              "16             1         19.8   1.00      0.5        4.96           0.0   \n",
              "17             1         20.5   3.50      0.5        4.00           0.0   \n",
              "18             2          8.6   3.50      0.5        0.00           0.0   \n",
              "19             2         15.6   3.50      0.5        0.00           0.0   \n",
              "\n",
              "    improvement_surcharge  total_amount  congestion_surcharge  airport_fee  \n",
              "0                     1.0         14.30                   2.5         0.00  \n",
              "1                     1.0         16.90                   2.5         0.00  \n",
              "2                     1.0         34.90                   2.5         0.00  \n",
              "3                     1.0         20.85                   0.0         1.25  \n",
              "4                     1.0         19.68                   2.5         0.00  \n",
              "5                     1.0         27.80                   2.5         0.00  \n",
              "6                     1.0         20.52                   2.5         0.00  \n",
              "7                     1.0         64.44                   2.5         0.00  \n",
              "8                     1.0         28.38                   2.5         0.00  \n",
              "9                     1.0         19.90                   2.5         0.00  \n",
              "10                    1.0         19.68                   2.5         0.00  \n",
              "11                    1.0         46.55                   2.5         0.00  \n",
              "12                    1.0         37.32                   2.5         0.00  \n",
              "13                    1.0         66.31                   0.0         1.25  \n",
              "14                    1.0         24.24                   0.0         0.00  \n",
              "15                    1.0         16.25                   2.5         0.00  \n",
              "16                    1.0         29.76                   2.5         0.00  \n",
              "17                    1.0         29.50                   2.5         0.00  \n",
              "18                    1.0         13.60                   2.5         0.00  \n",
              "19                    1.0         20.60                   2.5         0.00  "
            ],
            "text/html": [
              "<div>\n",
              "<style scoped>\n",
              "    .dataframe tbody tr th:only-of-type {\n",
              "        vertical-align: middle;\n",
              "    }\n",
              "\n",
              "    .dataframe tbody tr th {\n",
              "        vertical-align: top;\n",
              "    }\n",
              "\n",
              "    .dataframe thead th {\n",
              "        text-align: right;\n",
              "    }\n",
              "</style>\n",
              "<table border=\"1\" class=\"dataframe\">\n",
              "  <thead>\n",
              "    <tr style=\"text-align: right;\">\n",
              "      <th></th>\n",
              "      <th>VendorID</th>\n",
              "      <th>tpep_pickup_datetime</th>\n",
              "      <th>tpep_dropoff_datetime</th>\n",
              "      <th>passenger_count</th>\n",
              "      <th>trip_distance</th>\n",
              "      <th>RatecodeID</th>\n",
              "      <th>store_and_fwd_flag</th>\n",
              "      <th>PULocationID</th>\n",
              "      <th>DOLocationID</th>\n",
              "      <th>payment_type</th>\n",
              "      <th>fare_amount</th>\n",
              "      <th>extra</th>\n",
              "      <th>mta_tax</th>\n",
              "      <th>tip_amount</th>\n",
              "      <th>tolls_amount</th>\n",
              "      <th>improvement_surcharge</th>\n",
              "      <th>total_amount</th>\n",
              "      <th>congestion_surcharge</th>\n",
              "      <th>airport_fee</th>\n",
              "    </tr>\n",
              "  </thead>\n",
              "  <tbody>\n",
              "    <tr>\n",
              "      <th>0</th>\n",
              "      <td>2</td>\n",
              "      <td>2023-01-01 00:32:10</td>\n",
              "      <td>2023-01-01 00:40:36</td>\n",
              "      <td>1.0</td>\n",
              "      <td>0.97</td>\n",
              "      <td>1.0</td>\n",
              "      <td>N</td>\n",
              "      <td>161</td>\n",
              "      <td>141</td>\n",
              "      <td>2</td>\n",
              "      <td>9.3</td>\n",
              "      <td>1.00</td>\n",
              "      <td>0.5</td>\n",
              "      <td>0.00</td>\n",
              "      <td>0.0</td>\n",
              "      <td>1.0</td>\n",
              "      <td>14.30</td>\n",
              "      <td>2.5</td>\n",
              "      <td>0.00</td>\n",
              "    </tr>\n",
              "    <tr>\n",
              "      <th>1</th>\n",
              "      <td>2</td>\n",
              "      <td>2023-01-01 00:55:08</td>\n",
              "      <td>2023-01-01 01:01:27</td>\n",
              "      <td>1.0</td>\n",
              "      <td>1.10</td>\n",
              "      <td>1.0</td>\n",
              "      <td>N</td>\n",
              "      <td>43</td>\n",
              "      <td>237</td>\n",
              "      <td>1</td>\n",
              "      <td>7.9</td>\n",
              "      <td>1.00</td>\n",
              "      <td>0.5</td>\n",
              "      <td>4.00</td>\n",
              "      <td>0.0</td>\n",
              "      <td>1.0</td>\n",
              "      <td>16.90</td>\n",
              "      <td>2.5</td>\n",
              "      <td>0.00</td>\n",
              "    </tr>\n",
              "    <tr>\n",
              "      <th>2</th>\n",
              "      <td>2</td>\n",
              "      <td>2023-01-01 00:25:04</td>\n",
              "      <td>2023-01-01 00:37:49</td>\n",
              "      <td>1.0</td>\n",
              "      <td>2.51</td>\n",
              "      <td>1.0</td>\n",
              "      <td>N</td>\n",
              "      <td>48</td>\n",
              "      <td>238</td>\n",
              "      <td>1</td>\n",
              "      <td>14.9</td>\n",
              "      <td>1.00</td>\n",
              "      <td>0.5</td>\n",
              "      <td>15.00</td>\n",
              "      <td>0.0</td>\n",
              "      <td>1.0</td>\n",
              "      <td>34.90</td>\n",
              "      <td>2.5</td>\n",
              "      <td>0.00</td>\n",
              "    </tr>\n",
              "    <tr>\n",
              "      <th>3</th>\n",
              "      <td>1</td>\n",
              "      <td>2023-01-01 00:03:48</td>\n",
              "      <td>2023-01-01 00:13:25</td>\n",
              "      <td>0.0</td>\n",
              "      <td>1.90</td>\n",
              "      <td>1.0</td>\n",
              "      <td>N</td>\n",
              "      <td>138</td>\n",
              "      <td>7</td>\n",
              "      <td>1</td>\n",
              "      <td>12.1</td>\n",
              "      <td>7.25</td>\n",
              "      <td>0.5</td>\n",
              "      <td>0.00</td>\n",
              "      <td>0.0</td>\n",
              "      <td>1.0</td>\n",
              "      <td>20.85</td>\n",
              "      <td>0.0</td>\n",
              "      <td>1.25</td>\n",
              "    </tr>\n",
              "    <tr>\n",
              "      <th>4</th>\n",
              "      <td>2</td>\n",
              "      <td>2023-01-01 00:10:29</td>\n",
              "      <td>2023-01-01 00:21:19</td>\n",
              "      <td>1.0</td>\n",
              "      <td>1.43</td>\n",
              "      <td>1.0</td>\n",
              "      <td>N</td>\n",
              "      <td>107</td>\n",
              "      <td>79</td>\n",
              "      <td>1</td>\n",
              "      <td>11.4</td>\n",
              "      <td>1.00</td>\n",
              "      <td>0.5</td>\n",
              "      <td>3.28</td>\n",
              "      <td>0.0</td>\n",
              "      <td>1.0</td>\n",
              "      <td>19.68</td>\n",
              "      <td>2.5</td>\n",
              "      <td>0.00</td>\n",
              "    </tr>\n",
              "    <tr>\n",
              "      <th>5</th>\n",
              "      <td>2</td>\n",
              "      <td>2023-01-01 00:50:34</td>\n",
              "      <td>2023-01-01 01:02:52</td>\n",
              "      <td>1.0</td>\n",
              "      <td>1.84</td>\n",
              "      <td>1.0</td>\n",
              "      <td>N</td>\n",
              "      <td>161</td>\n",
              "      <td>137</td>\n",
              "      <td>1</td>\n",
              "      <td>12.8</td>\n",
              "      <td>1.00</td>\n",
              "      <td>0.5</td>\n",
              "      <td>10.00</td>\n",
              "      <td>0.0</td>\n",
              "      <td>1.0</td>\n",
              "      <td>27.80</td>\n",
              "      <td>2.5</td>\n",
              "      <td>0.00</td>\n",
              "    </tr>\n",
              "    <tr>\n",
              "      <th>6</th>\n",
              "      <td>2</td>\n",
              "      <td>2023-01-01 00:09:22</td>\n",
              "      <td>2023-01-01 00:19:49</td>\n",
              "      <td>1.0</td>\n",
              "      <td>1.66</td>\n",
              "      <td>1.0</td>\n",
              "      <td>N</td>\n",
              "      <td>239</td>\n",
              "      <td>143</td>\n",
              "      <td>1</td>\n",
              "      <td>12.1</td>\n",
              "      <td>1.00</td>\n",
              "      <td>0.5</td>\n",
              "      <td>3.42</td>\n",
              "      <td>0.0</td>\n",
              "      <td>1.0</td>\n",
              "      <td>20.52</td>\n",
              "      <td>2.5</td>\n",
              "      <td>0.00</td>\n",
              "    </tr>\n",
              "    <tr>\n",
              "      <th>7</th>\n",
              "      <td>2</td>\n",
              "      <td>2023-01-01 00:27:12</td>\n",
              "      <td>2023-01-01 00:49:56</td>\n",
              "      <td>1.0</td>\n",
              "      <td>11.70</td>\n",
              "      <td>1.0</td>\n",
              "      <td>N</td>\n",
              "      <td>142</td>\n",
              "      <td>200</td>\n",
              "      <td>1</td>\n",
              "      <td>45.7</td>\n",
              "      <td>1.00</td>\n",
              "      <td>0.5</td>\n",
              "      <td>10.74</td>\n",
              "      <td>3.0</td>\n",
              "      <td>1.0</td>\n",
              "      <td>64.44</td>\n",
              "      <td>2.5</td>\n",
              "      <td>0.00</td>\n",
              "    </tr>\n",
              "    <tr>\n",
              "      <th>8</th>\n",
              "      <td>2</td>\n",
              "      <td>2023-01-01 00:21:44</td>\n",
              "      <td>2023-01-01 00:36:40</td>\n",
              "      <td>1.0</td>\n",
              "      <td>2.95</td>\n",
              "      <td>1.0</td>\n",
              "      <td>N</td>\n",
              "      <td>164</td>\n",
              "      <td>236</td>\n",
              "      <td>1</td>\n",
              "      <td>17.7</td>\n",
              "      <td>1.00</td>\n",
              "      <td>0.5</td>\n",
              "      <td>5.68</td>\n",
              "      <td>0.0</td>\n",
              "      <td>1.0</td>\n",
              "      <td>28.38</td>\n",
              "      <td>2.5</td>\n",
              "      <td>0.00</td>\n",
              "    </tr>\n",
              "    <tr>\n",
              "      <th>9</th>\n",
              "      <td>2</td>\n",
              "      <td>2023-01-01 00:39:42</td>\n",
              "      <td>2023-01-01 00:50:36</td>\n",
              "      <td>1.0</td>\n",
              "      <td>3.01</td>\n",
              "      <td>1.0</td>\n",
              "      <td>N</td>\n",
              "      <td>141</td>\n",
              "      <td>107</td>\n",
              "      <td>2</td>\n",
              "      <td>14.9</td>\n",
              "      <td>1.00</td>\n",
              "      <td>0.5</td>\n",
              "      <td>0.00</td>\n",
              "      <td>0.0</td>\n",
              "      <td>1.0</td>\n",
              "      <td>19.90</td>\n",
              "      <td>2.5</td>\n",
              "      <td>0.00</td>\n",
              "    </tr>\n",
              "    <tr>\n",
              "      <th>10</th>\n",
              "      <td>2</td>\n",
              "      <td>2023-01-01 00:53:01</td>\n",
              "      <td>2023-01-01 01:01:45</td>\n",
              "      <td>1.0</td>\n",
              "      <td>1.80</td>\n",
              "      <td>1.0</td>\n",
              "      <td>N</td>\n",
              "      <td>234</td>\n",
              "      <td>68</td>\n",
              "      <td>1</td>\n",
              "      <td>11.4</td>\n",
              "      <td>1.00</td>\n",
              "      <td>0.5</td>\n",
              "      <td>3.28</td>\n",
              "      <td>0.0</td>\n",
              "      <td>1.0</td>\n",
              "      <td>19.68</td>\n",
              "      <td>2.5</td>\n",
              "      <td>0.00</td>\n",
              "    </tr>\n",
              "    <tr>\n",
              "      <th>11</th>\n",
              "      <td>1</td>\n",
              "      <td>2023-01-01 00:43:37</td>\n",
              "      <td>2023-01-01 01:17:18</td>\n",
              "      <td>4.0</td>\n",
              "      <td>7.30</td>\n",
              "      <td>1.0</td>\n",
              "      <td>N</td>\n",
              "      <td>79</td>\n",
              "      <td>264</td>\n",
              "      <td>1</td>\n",
              "      <td>33.8</td>\n",
              "      <td>3.50</td>\n",
              "      <td>0.5</td>\n",
              "      <td>7.75</td>\n",
              "      <td>0.0</td>\n",
              "      <td>1.0</td>\n",
              "      <td>46.55</td>\n",
              "      <td>2.5</td>\n",
              "      <td>0.00</td>\n",
              "    </tr>\n",
              "    <tr>\n",
              "      <th>12</th>\n",
              "      <td>2</td>\n",
              "      <td>2023-01-01 00:34:44</td>\n",
              "      <td>2023-01-01 01:04:25</td>\n",
              "      <td>1.0</td>\n",
              "      <td>3.23</td>\n",
              "      <td>1.0</td>\n",
              "      <td>N</td>\n",
              "      <td>164</td>\n",
              "      <td>143</td>\n",
              "      <td>1</td>\n",
              "      <td>26.1</td>\n",
              "      <td>1.00</td>\n",
              "      <td>0.5</td>\n",
              "      <td>6.22</td>\n",
              "      <td>0.0</td>\n",
              "      <td>1.0</td>\n",
              "      <td>37.32</td>\n",
              "      <td>2.5</td>\n",
              "      <td>0.00</td>\n",
              "    </tr>\n",
              "    <tr>\n",
              "      <th>13</th>\n",
              "      <td>2</td>\n",
              "      <td>2023-01-01 00:09:29</td>\n",
              "      <td>2023-01-01 00:29:23</td>\n",
              "      <td>2.0</td>\n",
              "      <td>11.43</td>\n",
              "      <td>1.0</td>\n",
              "      <td>N</td>\n",
              "      <td>138</td>\n",
              "      <td>33</td>\n",
              "      <td>1</td>\n",
              "      <td>44.3</td>\n",
              "      <td>6.00</td>\n",
              "      <td>0.5</td>\n",
              "      <td>13.26</td>\n",
              "      <td>0.0</td>\n",
              "      <td>1.0</td>\n",
              "      <td>66.31</td>\n",
              "      <td>0.0</td>\n",
              "      <td>1.25</td>\n",
              "    </tr>\n",
              "    <tr>\n",
              "      <th>14</th>\n",
              "      <td>2</td>\n",
              "      <td>2023-01-01 00:33:53</td>\n",
              "      <td>2023-01-01 00:49:15</td>\n",
              "      <td>1.0</td>\n",
              "      <td>2.95</td>\n",
              "      <td>1.0</td>\n",
              "      <td>N</td>\n",
              "      <td>33</td>\n",
              "      <td>61</td>\n",
              "      <td>1</td>\n",
              "      <td>17.7</td>\n",
              "      <td>1.00</td>\n",
              "      <td>0.5</td>\n",
              "      <td>4.04</td>\n",
              "      <td>0.0</td>\n",
              "      <td>1.0</td>\n",
              "      <td>24.24</td>\n",
              "      <td>0.0</td>\n",
              "      <td>0.00</td>\n",
              "    </tr>\n",
              "    <tr>\n",
              "      <th>15</th>\n",
              "      <td>2</td>\n",
              "      <td>2023-01-01 00:13:04</td>\n",
              "      <td>2023-01-01 00:22:10</td>\n",
              "      <td>1.0</td>\n",
              "      <td>1.52</td>\n",
              "      <td>1.0</td>\n",
              "      <td>N</td>\n",
              "      <td>79</td>\n",
              "      <td>186</td>\n",
              "      <td>1</td>\n",
              "      <td>10.0</td>\n",
              "      <td>1.00</td>\n",
              "      <td>0.5</td>\n",
              "      <td>1.25</td>\n",
              "      <td>0.0</td>\n",
              "      <td>1.0</td>\n",
              "      <td>16.25</td>\n",
              "      <td>2.5</td>\n",
              "      <td>0.00</td>\n",
              "    </tr>\n",
              "    <tr>\n",
              "      <th>16</th>\n",
              "      <td>2</td>\n",
              "      <td>2023-01-01 00:45:11</td>\n",
              "      <td>2023-01-01 01:07:39</td>\n",
              "      <td>1.0</td>\n",
              "      <td>2.23</td>\n",
              "      <td>1.0</td>\n",
              "      <td>N</td>\n",
              "      <td>90</td>\n",
              "      <td>48</td>\n",
              "      <td>1</td>\n",
              "      <td>19.8</td>\n",
              "      <td>1.00</td>\n",
              "      <td>0.5</td>\n",
              "      <td>4.96</td>\n",
              "      <td>0.0</td>\n",
              "      <td>1.0</td>\n",
              "      <td>29.76</td>\n",
              "      <td>2.5</td>\n",
              "      <td>0.00</td>\n",
              "    </tr>\n",
              "    <tr>\n",
              "      <th>17</th>\n",
              "      <td>1</td>\n",
              "      <td>2023-01-01 00:04:33</td>\n",
              "      <td>2023-01-01 00:19:22</td>\n",
              "      <td>1.0</td>\n",
              "      <td>4.50</td>\n",
              "      <td>1.0</td>\n",
              "      <td>N</td>\n",
              "      <td>113</td>\n",
              "      <td>255</td>\n",
              "      <td>1</td>\n",
              "      <td>20.5</td>\n",
              "      <td>3.50</td>\n",
              "      <td>0.5</td>\n",
              "      <td>4.00</td>\n",
              "      <td>0.0</td>\n",
              "      <td>1.0</td>\n",
              "      <td>29.50</td>\n",
              "      <td>2.5</td>\n",
              "      <td>0.00</td>\n",
              "    </tr>\n",
              "    <tr>\n",
              "      <th>18</th>\n",
              "      <td>1</td>\n",
              "      <td>2023-01-01 00:03:36</td>\n",
              "      <td>2023-01-01 00:09:36</td>\n",
              "      <td>3.0</td>\n",
              "      <td>1.20</td>\n",
              "      <td>1.0</td>\n",
              "      <td>N</td>\n",
              "      <td>237</td>\n",
              "      <td>239</td>\n",
              "      <td>2</td>\n",
              "      <td>8.6</td>\n",
              "      <td>3.50</td>\n",
              "      <td>0.5</td>\n",
              "      <td>0.00</td>\n",
              "      <td>0.0</td>\n",
              "      <td>1.0</td>\n",
              "      <td>13.60</td>\n",
              "      <td>2.5</td>\n",
              "      <td>0.00</td>\n",
              "    </tr>\n",
              "    <tr>\n",
              "      <th>19</th>\n",
              "      <td>1</td>\n",
              "      <td>2023-01-01 00:15:23</td>\n",
              "      <td>2023-01-01 00:29:41</td>\n",
              "      <td>2.0</td>\n",
              "      <td>2.50</td>\n",
              "      <td>1.0</td>\n",
              "      <td>N</td>\n",
              "      <td>143</td>\n",
              "      <td>229</td>\n",
              "      <td>2</td>\n",
              "      <td>15.6</td>\n",
              "      <td>3.50</td>\n",
              "      <td>0.5</td>\n",
              "      <td>0.00</td>\n",
              "      <td>0.0</td>\n",
              "      <td>1.0</td>\n",
              "      <td>20.60</td>\n",
              "      <td>2.5</td>\n",
              "      <td>0.00</td>\n",
              "    </tr>\n",
              "  </tbody>\n",
              "</table>\n",
              "</div>"
            ]
          },
          "metadata": {},
          "execution_count": 15
        }
      ]
    },
    {
      "cell_type": "markdown",
      "source": [
        "# Explore data\n"
      ],
      "metadata": {
        "id": "9mq594D08neK"
      }
    },
    {
      "cell_type": "code",
      "source": [
        "df.shape[0]"
      ],
      "metadata": {
        "id": "6DiKQCzabk_p",
        "colab": {
          "base_uri": "https://localhost:8080/"
        },
        "outputId": "324489b4-f648-4cf2-d465-cfb3cebfae69"
      },
      "execution_count": 16,
      "outputs": [
        {
          "output_type": "execute_result",
          "data": {
            "text/plain": [
              "3066766"
            ]
          },
          "metadata": {},
          "execution_count": 16
        }
      ]
    },
    {
      "cell_type": "code",
      "source": [
        "df.describe()"
      ],
      "metadata": {
        "colab": {
          "base_uri": "https://localhost:8080/",
          "height": 389
        },
        "id": "tu0zRO_Qb0dm",
        "outputId": "98183adc-ef00-463e-88ee-fd57861fa146"
      },
      "execution_count": 17,
      "outputs": [
        {
          "output_type": "execute_result",
          "data": {
            "text/plain": [
              "           VendorID        tpep_pickup_datetime       tpep_dropoff_datetime  \\\n",
              "count  3.066766e+06                     3066766                     3066766   \n",
              "mean   1.730215e+00  2023-01-17 00:22:26.288164  2023-01-17 00:38:06.427874   \n",
              "min    1.000000e+00         2008-12-31 23:01:42         2009-01-01 14:29:11   \n",
              "25%    1.000000e+00  2023-01-09 16:21:57.250000  2023-01-09 16:37:06.000000   \n",
              "50%    2.000000e+00  2023-01-17 08:42:29.500000  2023-01-17 08:58:30.500000   \n",
              "75%    2.000000e+00  2023-01-24 16:26:27.000000  2023-01-24 16:42:49.000000   \n",
              "max    2.000000e+00         2023-02-01 00:56:53         2023-02-02 09:28:47   \n",
              "std    4.438480e-01                        <NA>                        <NA>   \n",
              "\n",
              "       passenger_count  trip_distance    RatecodeID  PULocationID  \\\n",
              "count     2.995023e+06   3.066766e+06  2.995023e+06  3.066766e+06   \n",
              "mean      1.362532e+00   3.847342e+00  1.497440e+00  1.663980e+02   \n",
              "min       0.000000e+00   0.000000e+00  1.000000e+00  1.000000e+00   \n",
              "25%       1.000000e+00   1.060000e+00  1.000000e+00  1.320000e+02   \n",
              "50%       1.000000e+00   1.800000e+00  1.000000e+00  1.620000e+02   \n",
              "75%       1.000000e+00   3.330000e+00  1.000000e+00  2.340000e+02   \n",
              "max       9.000000e+00   2.589281e+05  9.900000e+01  2.650000e+02   \n",
              "std       8.961200e-01   2.495838e+02  6.474767e+00  6.424413e+01   \n",
              "\n",
              "       DOLocationID  payment_type   fare_amount         extra       mta_tax  \\\n",
              "count  3.066766e+06  3.066766e+06  3.066766e+06  3.066766e+06  3.066766e+06   \n",
              "mean   1.643926e+02  1.194483e+00  1.836707e+01  1.537842e+00  4.882900e-01   \n",
              "min    1.000000e+00  0.000000e+00 -9.000000e+02 -7.500000e+00 -5.000000e-01   \n",
              "25%    1.140000e+02  1.000000e+00  8.600000e+00  0.000000e+00  5.000000e-01   \n",
              "50%    1.620000e+02  1.000000e+00  1.280000e+01  1.000000e+00  5.000000e-01   \n",
              "75%    2.340000e+02  1.000000e+00  2.050000e+01  2.500000e+00  5.000000e-01   \n",
              "max    2.650000e+02  4.000000e+00  1.160100e+03  1.250000e+01  5.316000e+01   \n",
              "std    6.994368e+01  5.294760e-01  1.780782e+01  1.789592e+00  1.034640e-01   \n",
              "\n",
              "         tip_amount  tolls_amount  improvement_surcharge  total_amount  \\\n",
              "count  3.066766e+06  3.066766e+06           3.066766e+06  3.066766e+06   \n",
              "mean   3.367941e+00  5.184910e-01           9.820850e-01  2.702038e+01   \n",
              "min   -9.622000e+01 -6.500000e+01          -1.000000e+00 -7.510000e+02   \n",
              "25%    1.000000e+00  0.000000e+00           1.000000e+00  1.540000e+01   \n",
              "50%    2.720000e+00  0.000000e+00           1.000000e+00  2.016000e+01   \n",
              "75%    4.200000e+00  0.000000e+00           1.000000e+00  2.870000e+01   \n",
              "max    3.808000e+02  1.969900e+02           1.000000e+00  1.169400e+03   \n",
              "std    3.826759e+00  2.017579e+00           1.833530e-01  2.216359e+01   \n",
              "\n",
              "       congestion_surcharge   airport_fee  \n",
              "count          2.995023e+06  2.995023e+06  \n",
              "mean           2.274231e+00  1.074090e-01  \n",
              "min           -2.500000e+00 -1.250000e+00  \n",
              "25%            2.500000e+00  0.000000e+00  \n",
              "50%            2.500000e+00  0.000000e+00  \n",
              "75%            2.500000e+00  0.000000e+00  \n",
              "max            2.500000e+00  1.250000e+00  \n",
              "std            7.718450e-01  3.556510e-01  "
            ],
            "text/html": [
              "<div>\n",
              "<style scoped>\n",
              "    .dataframe tbody tr th:only-of-type {\n",
              "        vertical-align: middle;\n",
              "    }\n",
              "\n",
              "    .dataframe tbody tr th {\n",
              "        vertical-align: top;\n",
              "    }\n",
              "\n",
              "    .dataframe thead th {\n",
              "        text-align: right;\n",
              "    }\n",
              "</style>\n",
              "<table border=\"1\" class=\"dataframe\">\n",
              "  <thead>\n",
              "    <tr style=\"text-align: right;\">\n",
              "      <th></th>\n",
              "      <th>VendorID</th>\n",
              "      <th>tpep_pickup_datetime</th>\n",
              "      <th>tpep_dropoff_datetime</th>\n",
              "      <th>passenger_count</th>\n",
              "      <th>trip_distance</th>\n",
              "      <th>RatecodeID</th>\n",
              "      <th>PULocationID</th>\n",
              "      <th>DOLocationID</th>\n",
              "      <th>payment_type</th>\n",
              "      <th>fare_amount</th>\n",
              "      <th>extra</th>\n",
              "      <th>mta_tax</th>\n",
              "      <th>tip_amount</th>\n",
              "      <th>tolls_amount</th>\n",
              "      <th>improvement_surcharge</th>\n",
              "      <th>total_amount</th>\n",
              "      <th>congestion_surcharge</th>\n",
              "      <th>airport_fee</th>\n",
              "    </tr>\n",
              "  </thead>\n",
              "  <tbody>\n",
              "    <tr>\n",
              "      <th>count</th>\n",
              "      <td>3.066766e+06</td>\n",
              "      <td>3066766</td>\n",
              "      <td>3066766</td>\n",
              "      <td>2.995023e+06</td>\n",
              "      <td>3.066766e+06</td>\n",
              "      <td>2.995023e+06</td>\n",
              "      <td>3.066766e+06</td>\n",
              "      <td>3.066766e+06</td>\n",
              "      <td>3.066766e+06</td>\n",
              "      <td>3.066766e+06</td>\n",
              "      <td>3.066766e+06</td>\n",
              "      <td>3.066766e+06</td>\n",
              "      <td>3.066766e+06</td>\n",
              "      <td>3.066766e+06</td>\n",
              "      <td>3.066766e+06</td>\n",
              "      <td>3.066766e+06</td>\n",
              "      <td>2.995023e+06</td>\n",
              "      <td>2.995023e+06</td>\n",
              "    </tr>\n",
              "    <tr>\n",
              "      <th>mean</th>\n",
              "      <td>1.730215e+00</td>\n",
              "      <td>2023-01-17 00:22:26.288164</td>\n",
              "      <td>2023-01-17 00:38:06.427874</td>\n",
              "      <td>1.362532e+00</td>\n",
              "      <td>3.847342e+00</td>\n",
              "      <td>1.497440e+00</td>\n",
              "      <td>1.663980e+02</td>\n",
              "      <td>1.643926e+02</td>\n",
              "      <td>1.194483e+00</td>\n",
              "      <td>1.836707e+01</td>\n",
              "      <td>1.537842e+00</td>\n",
              "      <td>4.882900e-01</td>\n",
              "      <td>3.367941e+00</td>\n",
              "      <td>5.184910e-01</td>\n",
              "      <td>9.820850e-01</td>\n",
              "      <td>2.702038e+01</td>\n",
              "      <td>2.274231e+00</td>\n",
              "      <td>1.074090e-01</td>\n",
              "    </tr>\n",
              "    <tr>\n",
              "      <th>min</th>\n",
              "      <td>1.000000e+00</td>\n",
              "      <td>2008-12-31 23:01:42</td>\n",
              "      <td>2009-01-01 14:29:11</td>\n",
              "      <td>0.000000e+00</td>\n",
              "      <td>0.000000e+00</td>\n",
              "      <td>1.000000e+00</td>\n",
              "      <td>1.000000e+00</td>\n",
              "      <td>1.000000e+00</td>\n",
              "      <td>0.000000e+00</td>\n",
              "      <td>-9.000000e+02</td>\n",
              "      <td>-7.500000e+00</td>\n",
              "      <td>-5.000000e-01</td>\n",
              "      <td>-9.622000e+01</td>\n",
              "      <td>-6.500000e+01</td>\n",
              "      <td>-1.000000e+00</td>\n",
              "      <td>-7.510000e+02</td>\n",
              "      <td>-2.500000e+00</td>\n",
              "      <td>-1.250000e+00</td>\n",
              "    </tr>\n",
              "    <tr>\n",
              "      <th>25%</th>\n",
              "      <td>1.000000e+00</td>\n",
              "      <td>2023-01-09 16:21:57.250000</td>\n",
              "      <td>2023-01-09 16:37:06.000000</td>\n",
              "      <td>1.000000e+00</td>\n",
              "      <td>1.060000e+00</td>\n",
              "      <td>1.000000e+00</td>\n",
              "      <td>1.320000e+02</td>\n",
              "      <td>1.140000e+02</td>\n",
              "      <td>1.000000e+00</td>\n",
              "      <td>8.600000e+00</td>\n",
              "      <td>0.000000e+00</td>\n",
              "      <td>5.000000e-01</td>\n",
              "      <td>1.000000e+00</td>\n",
              "      <td>0.000000e+00</td>\n",
              "      <td>1.000000e+00</td>\n",
              "      <td>1.540000e+01</td>\n",
              "      <td>2.500000e+00</td>\n",
              "      <td>0.000000e+00</td>\n",
              "    </tr>\n",
              "    <tr>\n",
              "      <th>50%</th>\n",
              "      <td>2.000000e+00</td>\n",
              "      <td>2023-01-17 08:42:29.500000</td>\n",
              "      <td>2023-01-17 08:58:30.500000</td>\n",
              "      <td>1.000000e+00</td>\n",
              "      <td>1.800000e+00</td>\n",
              "      <td>1.000000e+00</td>\n",
              "      <td>1.620000e+02</td>\n",
              "      <td>1.620000e+02</td>\n",
              "      <td>1.000000e+00</td>\n",
              "      <td>1.280000e+01</td>\n",
              "      <td>1.000000e+00</td>\n",
              "      <td>5.000000e-01</td>\n",
              "      <td>2.720000e+00</td>\n",
              "      <td>0.000000e+00</td>\n",
              "      <td>1.000000e+00</td>\n",
              "      <td>2.016000e+01</td>\n",
              "      <td>2.500000e+00</td>\n",
              "      <td>0.000000e+00</td>\n",
              "    </tr>\n",
              "    <tr>\n",
              "      <th>75%</th>\n",
              "      <td>2.000000e+00</td>\n",
              "      <td>2023-01-24 16:26:27.000000</td>\n",
              "      <td>2023-01-24 16:42:49.000000</td>\n",
              "      <td>1.000000e+00</td>\n",
              "      <td>3.330000e+00</td>\n",
              "      <td>1.000000e+00</td>\n",
              "      <td>2.340000e+02</td>\n",
              "      <td>2.340000e+02</td>\n",
              "      <td>1.000000e+00</td>\n",
              "      <td>2.050000e+01</td>\n",
              "      <td>2.500000e+00</td>\n",
              "      <td>5.000000e-01</td>\n",
              "      <td>4.200000e+00</td>\n",
              "      <td>0.000000e+00</td>\n",
              "      <td>1.000000e+00</td>\n",
              "      <td>2.870000e+01</td>\n",
              "      <td>2.500000e+00</td>\n",
              "      <td>0.000000e+00</td>\n",
              "    </tr>\n",
              "    <tr>\n",
              "      <th>max</th>\n",
              "      <td>2.000000e+00</td>\n",
              "      <td>2023-02-01 00:56:53</td>\n",
              "      <td>2023-02-02 09:28:47</td>\n",
              "      <td>9.000000e+00</td>\n",
              "      <td>2.589281e+05</td>\n",
              "      <td>9.900000e+01</td>\n",
              "      <td>2.650000e+02</td>\n",
              "      <td>2.650000e+02</td>\n",
              "      <td>4.000000e+00</td>\n",
              "      <td>1.160100e+03</td>\n",
              "      <td>1.250000e+01</td>\n",
              "      <td>5.316000e+01</td>\n",
              "      <td>3.808000e+02</td>\n",
              "      <td>1.969900e+02</td>\n",
              "      <td>1.000000e+00</td>\n",
              "      <td>1.169400e+03</td>\n",
              "      <td>2.500000e+00</td>\n",
              "      <td>1.250000e+00</td>\n",
              "    </tr>\n",
              "    <tr>\n",
              "      <th>std</th>\n",
              "      <td>4.438480e-01</td>\n",
              "      <td>&lt;NA&gt;</td>\n",
              "      <td>&lt;NA&gt;</td>\n",
              "      <td>8.961200e-01</td>\n",
              "      <td>2.495838e+02</td>\n",
              "      <td>6.474767e+00</td>\n",
              "      <td>6.424413e+01</td>\n",
              "      <td>6.994368e+01</td>\n",
              "      <td>5.294760e-01</td>\n",
              "      <td>1.780782e+01</td>\n",
              "      <td>1.789592e+00</td>\n",
              "      <td>1.034640e-01</td>\n",
              "      <td>3.826759e+00</td>\n",
              "      <td>2.017579e+00</td>\n",
              "      <td>1.833530e-01</td>\n",
              "      <td>2.216359e+01</td>\n",
              "      <td>7.718450e-01</td>\n",
              "      <td>3.556510e-01</td>\n",
              "    </tr>\n",
              "  </tbody>\n",
              "</table>\n",
              "</div>"
            ]
          },
          "metadata": {},
          "execution_count": 17
        }
      ]
    },
    {
      "cell_type": "code",
      "source": [
        "df.isnull().sum()"
      ],
      "metadata": {
        "colab": {
          "base_uri": "https://localhost:8080/"
        },
        "id": "2oRL6KUodOHv",
        "outputId": "4dd6e8d5-6f5a-45ae-8883-cc8e3a3c5fa7"
      },
      "execution_count": 18,
      "outputs": [
        {
          "output_type": "execute_result",
          "data": {
            "text/plain": [
              "VendorID                     0\n",
              "tpep_pickup_datetime         0\n",
              "tpep_dropoff_datetime        0\n",
              "passenger_count          71743\n",
              "trip_distance                0\n",
              "RatecodeID               71743\n",
              "store_and_fwd_flag       71743\n",
              "PULocationID                 0\n",
              "DOLocationID                 0\n",
              "payment_type                 0\n",
              "fare_amount                  0\n",
              "extra                        0\n",
              "mta_tax                      0\n",
              "tip_amount                   0\n",
              "tolls_amount                 0\n",
              "improvement_surcharge        0\n",
              "total_amount                 0\n",
              "congestion_surcharge     71743\n",
              "airport_fee              71743\n",
              "dtype: int64"
            ]
          },
          "metadata": {},
          "execution_count": 18
        }
      ]
    },
    {
      "cell_type": "code",
      "source": [
        "\n",
        "df = df.dropna()\n",
        "df.isnull().sum()\n"
      ],
      "metadata": {
        "colab": {
          "base_uri": "https://localhost:8080/"
        },
        "id": "UD851bcYfl9T",
        "outputId": "37dbe151-9793-4bcb-d664-ad62638ab98a"
      },
      "execution_count": 19,
      "outputs": [
        {
          "output_type": "execute_result",
          "data": {
            "text/plain": [
              "VendorID                 0\n",
              "tpep_pickup_datetime     0\n",
              "tpep_dropoff_datetime    0\n",
              "passenger_count          0\n",
              "trip_distance            0\n",
              "RatecodeID               0\n",
              "store_and_fwd_flag       0\n",
              "PULocationID             0\n",
              "DOLocationID             0\n",
              "payment_type             0\n",
              "fare_amount              0\n",
              "extra                    0\n",
              "mta_tax                  0\n",
              "tip_amount               0\n",
              "tolls_amount             0\n",
              "improvement_surcharge    0\n",
              "total_amount             0\n",
              "congestion_surcharge     0\n",
              "airport_fee              0\n",
              "dtype: int64"
            ]
          },
          "metadata": {},
          "execution_count": 19
        }
      ]
    },
    {
      "cell_type": "code",
      "source": [
        "df.shape[0]"
      ],
      "metadata": {
        "colab": {
          "base_uri": "https://localhost:8080/"
        },
        "id": "p1rfUiu7f2yc",
        "outputId": "92581d15-42d8-4e6e-9cbb-ff60a6abdd79"
      },
      "execution_count": 20,
      "outputs": [
        {
          "output_type": "execute_result",
          "data": {
            "text/plain": [
              "2995023"
            ]
          },
          "metadata": {},
          "execution_count": 20
        }
      ]
    },
    {
      "cell_type": "code",
      "source": [
        "import matplotlib.pyplot as plt\n",
        "import seaborn as sns\n",
        "import numpy as np\n",
        "\n",
        "numerical_cols = df.select_dtypes(include=['number'])\n",
        "\n",
        "correlation_matrix = numerical_cols.corr()\n",
        "\n",
        "correlation_matrix_np = correlation_matrix.to_numpy()\n",
        "\n",
        "plt.figure(figsize=(12, 10))\n",
        "sns.heatmap(correlation_matrix_np, annot=True, cmap='coolwarm', fmt=\".2f\")\n",
        "plt.title('Correlation Matrix Heatmap')\n",
        "plt.show()"
      ],
      "metadata": {
        "colab": {
          "base_uri": "https://localhost:8080/",
          "height": 624
        },
        "id": "4a5V2Il2dVRO",
        "outputId": "7df797d2-18d6-46c5-f6cf-69508cfe1492"
      },
      "execution_count": 21,
      "outputs": [
        {
          "output_type": "display_data",
          "data": {
            "text/plain": [
              "<Figure size 1200x1000 with 2 Axes>"
            ],
            "image/png": "[encoded data removed]"
          },
          "metadata": {}
        }
      ]
    },
    {
      "cell_type": "code",
      "source": [
        "\n",
        "df = df.drop(columns=['RatecodeID', 'store_and_fwd_flag', 'VendorID', 'PULocationID','DOLocationID','store_and_fwd_flag','payment_type','improvement_surcharge','mta_tax'])\n",
        "\n",
        "df.info()\n"
      ],
      "metadata": {
        "id": "r7j0RONkdvNT",
        "colab": {
          "base_uri": "https://localhost:8080/"
        },
        "outputId": "e59dcdcd-d09a-46b2-824a-3101ad4d8143"
      },
      "execution_count": 22,
      "outputs": [
        {
          "output_type": "stream",
          "name": "stdout",
          "text": [
            "<class 'cudf.core.dataframe.DataFrame'>\n",
            "Index: 2995023 entries, 0 to 2995022\n",
            "Data columns (total 11 columns):\n",
            " #   Column                 Dtype\n",
            "---  ------                 -----\n",
            " 0   tpep_pickup_datetime   datetime64[us]\n",
            " 1   tpep_dropoff_datetime  datetime64[us]\n",
            " 2   passenger_count        float64\n",
            " 3   trip_distance          float64\n",
            " 4   fare_amount            float64\n",
            " 5   extra                  float64\n",
            " 6   tip_amount             float64\n",
            " 7   tolls_amount           float64\n",
            " 8   total_amount           float64\n",
            " 9   congestion_surcharge   float64\n",
            " 10  airport_fee            float64\n",
            "dtypes: datetime64[us](2), float64(9)\n",
            "memory usage: 274.2 MB\n"
          ]
        }
      ]
    },
    {
      "cell_type": "code",
      "source": [
        "df['trip_duration'] = (cudf.to_datetime(df['tpep_dropoff_datetime']) - cudf.to_datetime(df['tpep_pickup_datetime'])).dt.total_seconds()"
      ],
      "metadata": {
        "id": "fUXvfWhB38CF"
      },
      "execution_count": 23,
      "outputs": []
    },
    {
      "cell_type": "code",
      "source": [
        "df = df.drop(columns=['tpep_pickup_datetime', 'tpep_dropoff_datetime'])"
      ],
      "metadata": {
        "id": "TxqPzInH40cA"
      },
      "execution_count": 24,
      "outputs": []
    },
    {
      "cell_type": "code",
      "source": [
        "X = df.drop('total_amount', axis=1)\n",
        "y = df['total_amount']"
      ],
      "metadata": {
        "id": "qMLBXSBdkIAR"
      },
      "execution_count": 25,
      "outputs": []
    },
    {
      "cell_type": "code",
      "source": [
        "X"
      ],
      "metadata": {
        "colab": {
          "base_uri": "https://localhost:8080/",
          "height": 443
        },
        "id": "s541YAuBkteM",
        "outputId": "0fb6dfbe-8c84-4736-92c4-cfafe59bea63"
      },
      "execution_count": 26,
      "outputs": [
        {
          "output_type": "execute_result",
          "data": {
            "text/plain": [
              "         passenger_count  trip_distance  fare_amount  extra  tip_amount  \\\n",
              "0                    1.0           0.97          9.3   1.00        0.00   \n",
              "1                    1.0           1.10          7.9   1.00        4.00   \n",
              "2                    1.0           2.51         14.9   1.00       15.00   \n",
              "3                    0.0           1.90         12.1   7.25        0.00   \n",
              "4                    1.0           1.43         11.4   1.00        3.28   \n",
              "...                  ...            ...          ...    ...         ...   \n",
              "2995018              1.0          13.90         50.5   0.00        0.00   \n",
              "2995019              1.0           3.37         15.6   1.00        2.00   \n",
              "2995020              1.0           2.86         16.3   1.00        2.00   \n",
              "2995021              2.0           3.80         17.7   3.50        2.50   \n",
              "2995022              1.0           0.60          5.8   1.00        0.00   \n",
              "\n",
              "         tolls_amount  congestion_surcharge  airport_fee  trip_duration  \n",
              "0                 0.0                   2.5         0.00          506.0  \n",
              "1                 0.0                   2.5         0.00          379.0  \n",
              "2                 0.0                   2.5         0.00          765.0  \n",
              "3                 0.0                   0.0         1.25          577.0  \n",
              "4                 0.0                   2.5         0.00          650.0  \n",
              "...               ...                   ...          ...            ...  \n",
              "2995018           0.0                   0.0         0.00         4094.0  \n",
              "2995019           0.0                   2.5         0.00          652.0  \n",
              "2995020           0.0                   2.5         0.00          834.0  \n",
              "2995021           0.0                   2.5         0.00          646.0  \n",
              "2995022           0.0                   2.5         0.00          217.0  \n",
              "\n",
              "[2995023 rows x 9 columns]"
            ],
            "text/html": [
              "<div>\n",
              "<style scoped>\n",
              "    .dataframe tbody tr th:only-of-type {\n",
              "        vertical-align: middle;\n",
              "    }\n",
              "\n",
              "    .dataframe tbody tr th {\n",
              "        vertical-align: top;\n",
              "    }\n",
              "\n",
              "    .dataframe thead th {\n",
              "        text-align: right;\n",
              "    }\n",
              "</style>\n",
              "<table border=\"1\" class=\"dataframe\">\n",
              "  <thead>\n",
              "    <tr style=\"text-align: right;\">\n",
              "      <th></th>\n",
              "      <th>passenger_count</th>\n",
              "      <th>trip_distance</th>\n",
              "      <th>fare_amount</th>\n",
              "      <th>extra</th>\n",
              "      <th>tip_amount</th>\n",
              "      <th>tolls_amount</th>\n",
              "      <th>congestion_surcharge</th>\n",
              "      <th>airport_fee</th>\n",
              "      <th>trip_duration</th>\n",
              "    </tr>\n",
              "  </thead>\n",
              "  <tbody>\n",
              "    <tr>\n",
              "      <th>0</th>\n",
              "      <td>1.0</td>\n",
              "      <td>0.97</td>\n",
              "      <td>9.3</td>\n",
              "      <td>1.00</td>\n",
              "      <td>0.00</td>\n",
              "      <td>0.0</td>\n",
              "      <td>2.5</td>\n",
              "      <td>0.00</td>\n",
              "      <td>506.0</td>\n",
              "    </tr>\n",
              "    <tr>\n",
              "      <th>1</th>\n",
              "      <td>1.0</td>\n",
              "      <td>1.10</td>\n",
              "      <td>7.9</td>\n",
              "      <td>1.00</td>\n",
              "      <td>4.00</td>\n",
              "      <td>0.0</td>\n",
              "      <td>2.5</td>\n",
              "      <td>0.00</td>\n",
              "      <td>379.0</td>\n",
              "    </tr>\n",
              "    <tr>\n",
              "      <th>2</th>\n",
              "      <td>1.0</td>\n",
              "      <td>2.51</td>\n",
              "      <td>14.9</td>\n",
              "      <td>1.00</td>\n",
              "      <td>15.00</td>\n",
              "      <td>0.0</td>\n",
              "      <td>2.5</td>\n",
              "      <td>0.00</td>\n",
              "      <td>765.0</td>\n",
              "    </tr>\n",
              "    <tr>\n",
              "      <th>3</th>\n",
              "      <td>0.0</td>\n",
              "      <td>1.90</td>\n",
              "      <td>12.1</td>\n",
              "      <td>7.25</td>\n",
              "      <td>0.00</td>\n",
              "      <td>0.0</td>\n",
              "      <td>0.0</td>\n",
              "      <td>1.25</td>\n",
              "      <td>577.0</td>\n",
              "    </tr>\n",
              "    <tr>\n",
              "      <th>4</th>\n",
              "      <td>1.0</td>\n",
              "      <td>1.43</td>\n",
              "      <td>11.4</td>\n",
              "      <td>1.00</td>\n",
              "      <td>3.28</td>\n",
              "      <td>0.0</td>\n",
              "      <td>2.5</td>\n",
              "      <td>0.00</td>\n",
              "      <td>650.0</td>\n",
              "    </tr>\n",
              "    <tr>\n",
              "      <th>...</th>\n",
              "      <td>...</td>\n",
              "      <td>...</td>\n",
              "      <td>...</td>\n",
              "      <td>...</td>\n",
              "      <td>...</td>\n",
              "      <td>...</td>\n",
              "      <td>...</td>\n",
              "      <td>...</td>\n",
              "      <td>...</td>\n",
              "    </tr>\n",
              "    <tr>\n",
              "      <th>2995018</th>\n",
              "      <td>1.0</td>\n",
              "      <td>13.90</td>\n",
              "      <td>50.5</td>\n",
              "      <td>0.00</td>\n",
              "      <td>0.00</td>\n",
              "      <td>0.0</td>\n",
              "      <td>0.0</td>\n",
              "      <td>0.00</td>\n",
              "      <td>4094.0</td>\n",
              "    </tr>\n",
              "    <tr>\n",
              "      <th>2995019</th>\n",
              "      <td>1.0</td>\n",
              "      <td>3.37</td>\n",
              "      <td>15.6</td>\n",
              "      <td>1.00</td>\n",
              "      <td>2.00</td>\n",
              "      <td>0.0</td>\n",
              "      <td>2.5</td>\n",
              "      <td>0.00</td>\n",
              "      <td>652.0</td>\n",
              "    </tr>\n",
              "    <tr>\n",
              "      <th>2995020</th>\n",
              "      <td>1.0</td>\n",
              "      <td>2.86</td>\n",
              "      <td>16.3</td>\n",
              "      <td>1.00</td>\n",
              "      <td>2.00</td>\n",
              "      <td>0.0</td>\n",
              "      <td>2.5</td>\n",
              "      <td>0.00</td>\n",
              "      <td>834.0</td>\n",
              "    </tr>\n",
              "    <tr>\n",
              "      <th>2995021</th>\n",
              "      <td>2.0</td>\n",
              "      <td>3.80</td>\n",
              "      <td>17.7</td>\n",
              "      <td>3.50</td>\n",
              "      <td>2.50</td>\n",
              "      <td>0.0</td>\n",
              "      <td>2.5</td>\n",
              "      <td>0.00</td>\n",
              "      <td>646.0</td>\n",
              "    </tr>\n",
              "    <tr>\n",
              "      <th>2995022</th>\n",
              "      <td>1.0</td>\n",
              "      <td>0.60</td>\n",
              "      <td>5.8</td>\n",
              "      <td>1.00</td>\n",
              "      <td>0.00</td>\n",
              "      <td>0.0</td>\n",
              "      <td>2.5</td>\n",
              "      <td>0.00</td>\n",
              "      <td>217.0</td>\n",
              "    </tr>\n",
              "  </tbody>\n",
              "</table>\n",
              "<p>2995023 rows × 9 columns</p>\n",
              "</div>"
            ]
          },
          "metadata": {},
          "execution_count": 26
        }
      ]
    },
    {
      "cell_type": "code",
      "source": [
        "y"
      ],
      "metadata": {
        "colab": {
          "base_uri": "https://localhost:8080/"
        },
        "id": "Q6-jc1Q0kuKb",
        "outputId": "c59dc623-9a02-4ffc-85b8-dc5aab2c4309"
      },
      "execution_count": 27,
      "outputs": [
        {
          "output_type": "execute_result",
          "data": {
            "text/plain": [
              "0          14.30\n",
              "1          16.90\n",
              "2          34.90\n",
              "3          20.85\n",
              "4          19.68\n",
              "           ...  \n",
              "2995018    52.00\n",
              "2995019    22.60\n",
              "2995020    23.30\n",
              "2995021    25.20\n",
              "2995022    10.80\n",
              "Name: total_amount, Length: 2995023, dtype: float64"
            ]
          },
          "metadata": {},
          "execution_count": 27
        }
      ]
    },
    {
      "cell_type": "code",
      "source": [
        "X = cudf.DataFrame.from_pandas(X)\n",
        "y = cudf.Series.from_pandas(y)"
      ],
      "metadata": {
        "colab": {
          "base_uri": "https://localhost:8080/"
        },
        "id": "S2_2NGNIn9UY",
        "outputId": "f40eaf0c-8cc6-4d5e-e197-3e34e3959893"
      },
      "execution_count": 28,
      "outputs": [
        {
          "output_type": "stream",
          "name": "stderr",
          "text": [
            "/usr/local/lib/python3.11/dist-packages/cudf/core/dataframe.py:5571: FutureWarning: Support for loading dataframes via the `__dataframe__` interchange protocol is deprecated\n",
            "  warnings.warn(\n"
          ]
        }
      ]
    },
    {
      "cell_type": "markdown",
      "source": [
        "## Scale data"
      ],
      "metadata": {
        "id": "YXWJPIoI84LS"
      }
    },
    {
      "cell_type": "code",
      "source": [
        "from cuml.preprocessing import StandardScaler\n",
        "import joblib\n",
        "\n",
        "scaler = StandardScaler()\n",
        "scaler.fit(X)\n",
        "X_scaled = scaler.transform(X)\n",
        "joblib.dump(scaler, 'scalar.joblib')\n",
        "\n"
      ],
      "metadata": {
        "id": "cK09zzKhuLWS",
        "colab": {
          "base_uri": "https://localhost:8080/"
        },
        "outputId": "c71a6226-09f8-45fb-fce6-2db3267f66df"
      },
      "execution_count": 29,
      "outputs": [
        {
          "output_type": "execute_result",
          "data": {
            "text/plain": [
              "['scalar.joblib']"
            ]
          },
          "metadata": {},
          "execution_count": 29
        }
      ]
    },
    {
      "cell_type": "markdown",
      "source": [
        "# Split data\n"
      ],
      "metadata": {
        "id": "9qOHAr778_JR"
      }
    },
    {
      "cell_type": "code",
      "source": [
        "from cuml.model_selection import train_test_split\n",
        "X_train, X_test, y_train, y_test = train_test_split(X_scaled, y, test_size=0.2, random_state=42)\n",
        "\n",
        "\n",
        "X_train = X_train[1:150000]\n",
        "y_train = y_train[1:150000]\n",
        "\n",
        "X_test = X_test[1:150000]\n",
        "y_test = y_test[1:150000]\n",
        "\n",
        "sample_size = 5000\n",
        "X_test_sample = X_test.sample(n=sample_size, random_state=42)  # Use random_state for reproducibility\n",
        "\n",
        "X_test_sample.to_csv('X_test_sample.csv', index=False)"
      ],
      "metadata": {
        "id": "KGmJBmHulaYI"
      },
      "execution_count": 32,
      "outputs": []
    },
    {
      "cell_type": "markdown",
      "source": [
        "# Random Forest Regressor"
      ],
      "metadata": {
        "id": "ddFWFJaZ9G5a"
      }
    },
    {
      "cell_type": "code",
      "source": [
        "import time\n",
        "from cuml.metrics import r2_score\n",
        "import joblib\n",
        "\n",
        "start_time = time.time()\n",
        "tracemalloc.start()\n",
        "\n",
        "\n",
        "\n",
        "model = cuml.ensemble.RandomForestRegressor(n_estimators=100, max_depth=5, random_state=42)\n",
        "model.fit(X_train, y_train)\n",
        "y_pred_rf  = model.predict(X_test)\n",
        "\n",
        "end_time = time.time()\n",
        "execution_time = end_time - start_time\n",
        "end_time = time.time()\n",
        "execution_time = end_time - start_time\n",
        "current, peak = tracemalloc.get_traced_memory()\n",
        "\n",
        "mse_rf = mean_squared_error(y_test, y_pred_rf )\n",
        "rmse_rf = mse_rf**0.5\n",
        "r2_rf = r2_score(y_test, y_pred_rf )\n",
        "\n",
        "print(f\"Execution Time: {execution_time:.2f} seconds\")\n",
        "print(f\"Current memory usage: {current / 10**6:.2f} MB; Peak: {peak / 10**6:.2f} MB\")\n",
        "print(f\"Mean Squared Error (MSE): {mse_rf}\")\n",
        "print(f\"Root Mean Squared Error (RMSE): {rmse_rf}\")\n",
        "print(f\"R-squared (R2): {r2_rf}\")\n",
        "\n",
        "\n",
        "tracemalloc.stop()"
      ],
      "metadata": {
        "colab": {
          "base_uri": "https://localhost:8080/"
        },
        "id": "ve8xslo3nMcM",
        "outputId": "70a48efe-eccc-4533-8928-6331c9fec011"
      },
      "execution_count": 33,
      "outputs": [
        {
          "output_type": "stream",
          "name": "stderr",
          "text": [
            "/usr/local/lib/python3.11/dist-packages/cuml/internals/api_decorators.py:368: UserWarning: For reproducible results in Random Forest Classifier or for almost reproducible results in Random Forest Regressor, n_streams=1 is recommended. If n_streams is > 1, results may vary due to stream/thread timing differences, even when random_state is set\n",
            "  return init_func(self, *args, **kwargs)\n"
          ]
        },
        {
          "output_type": "stream",
          "name": "stdout",
          "text": [
            "Execution Time: 1.33 seconds\n",
            "Current memory usage: 0.09 MB; Peak: 0.47 MB\n",
            "Mean Squared Error (MSE): 25.883279706237495\n",
            "Root Mean Squared Error (RMSE): 5.087561272971314\n",
            "R-squared (R2): 0.94786059938692\n"
          ]
        }
      ]
    },
    {
      "cell_type": "markdown",
      "source": [
        "# XGb"
      ],
      "metadata": {
        "id": "zoy9kSBu-Gcv"
      }
    },
    {
      "cell_type": "code",
      "source": [
        "start_time = time.time()\n",
        "tracemalloc.start()\n",
        "\n",
        "dtrain = xgb.DMatrix(X_train.to_pandas(), label=y_train.to_pandas())\n",
        "dtest = xgb.DMatrix(X_test.to_pandas(), label=y_test.to_pandas())\n",
        "\n",
        "params = {\n",
        "    'objective': 'reg:squarederror',\n",
        "    'tree_method': 'gpu_hist',\n",
        "    'eval_metric': 'rmse'\n",
        "}\n",
        "\n",
        "model = xgb.train(params, dtrain)\n",
        "y_pred = model.predict(dtest)\n",
        "y_pred_xgb_cudf  = cudf.Series(y_pred)\n",
        "\n",
        "end_time = time.time()\n",
        "execution_time = end_time - start_time\n",
        "current, peak = tracemalloc.get_traced_memory()\n",
        "\n",
        "mse_xgb = mean_squared_error(y_test, y_pred_xgb_cudf )\n",
        "rmse_xgb = mse_xgb**0.5\n",
        "r2_xgb = r2_score(y_test, y_pred_xgb_cudf )\n",
        "\n",
        "print(f\"Execution Time: {execution_time:.2f} seconds\")\n",
        "print(f\"Current memory usage: {current / 10**6:.2f} MB; Peak: {peak / 10**6:.2f} MB\")\n",
        "print(f\"Mean Squared Error (MSE): {mse_xgb}\")\n",
        "print(f\"Root Mean Squared Error (RMSE): {rmse_xgb}\")\n",
        "print(f\"R-squared (R2): {r2_xgb}\")\n",
        "\n",
        "joblib.dump(model, 'model.joblib')\n",
        "\n",
        "\n",
        "tracemalloc.stop()"
      ],
      "metadata": {
        "colab": {
          "base_uri": "https://localhost:8080/"
        },
        "id": "lonf5q2NlFWG",
        "outputId": "435e2b4e-1e2e-426c-d0b9-32d8904e860e"
      },
      "execution_count": 36,
      "outputs": [
        {
          "output_type": "stream",
          "name": "stdout",
          "text": [
            "Execution Time: 0.35 seconds\n",
            "Current memory usage: 0.66 MB; Peak: 33.65 MB\n",
            "Mean Squared Error (MSE): 11.909826574714968\n",
            "Root Mean Squared Error (RMSE): 3.451061659071737\n",
            "R-squared (R2): 0.9760087892238122\n"
          ]
        },
        {
          "output_type": "stream",
          "name": "stderr",
          "text": [
            "/usr/local/lib/python3.11/dist-packages/xgboost/core.py:158: UserWarning: [12:44:59] WARNING: /workspace/src/common/error_msg.cc:27: The tree method `gpu_hist` is deprecated since 2.0.0. To use GPU training, set the `device` parameter to CUDA instead.\n",
            "\n",
            "    E.g. tree_method = \"hist\", device = \"cuda\"\n",
            "\n",
            "  warnings.warn(smsg, UserWarning)\n"
          ]
        }
      ]
    },
    {
      "cell_type": "markdown",
      "source": [
        "# KNeighbors Regressor"
      ],
      "metadata": {
        "id": "LoC-o1LS-MhV"
      }
    },
    {
      "cell_type": "code",
      "source": [
        "from cuml.neighbors import KNeighborsRegressor\n",
        "\n",
        "start_time = time.time()\n",
        "tracemalloc.start()\n",
        "\n",
        "model = KNeighborsRegressor(n_neighbors=5)\n",
        "model.fit(X_train, y_train)\n",
        "y_pred_knn = model.predict(X_test)\n",
        "\n",
        "end_time = time.time()\n",
        "execution_time = end_time - start_time\n",
        "current, peak = tracemalloc.get_traced_memory()\n",
        "\n",
        "mse_knn = mean_squared_error(y_test, y_pred_knn)\n",
        "rmse_knn = mse_knn**0.5\n",
        "r2_knn = r2_score(y_test, y_pred_knn)\n",
        "\n",
        "print(f\"Execution Time: {execution_time:.2f} seconds\")\n",
        "print(f\"Current memory usage: {current / 10**6:.2f} MB; Peak: {peak / 10**6:.2f} MB\")\n",
        "print(f\"Mean Squared Error (MSE): {mse_knn}\")\n",
        "print(f\"Root Mean Squared Error (RMSE): {rmse_knn}\")\n",
        "print(f\"R-squared (R2): {r2_knn}\")\n",
        "\n",
        "joblib.dump(model, 'knn_model.joblib')\n",
        "\n",
        "tracemalloc.stop()"
      ],
      "metadata": {
        "id": "eURpJEvUvKt9",
        "colab": {
          "base_uri": "https://localhost:8080/"
        },
        "outputId": "6ea7a6d6-f526-4b09-b5ce-7efe227010ca"
      },
      "execution_count": 35,
      "outputs": [
        {
          "output_type": "stream",
          "name": "stdout",
          "text": [
            "Execution Time: 2.50 seconds\n",
            "Current memory usage: 0.06 MB; Peak: 0.45 MB\n",
            "Mean Squared Error (MSE): 2.871925338510578\n",
            "Root Mean Squared Error (RMSE): 1.6946755850340731\n",
            "R-squared (R2): 0.9942147800643915\n"
          ]
        }
      ]
    },
    {
      "cell_type": "markdown",
      "source": [
        "# Logistic Regression"
      ],
      "metadata": {
        "id": "LvAFKI6j-arU"
      }
    },
    {
      "cell_type": "code",
      "source": [
        "from cuml.linear_model import LogisticRegression\n",
        "import time\n",
        "import tracemalloc\n",
        "from cuml.metrics import mean_squared_error, r2_score\n",
        "import joblib\n",
        "\n",
        "\n",
        "start_time = time.time()\n",
        "tracemalloc.start()\n",
        "\n",
        "model = LogisticRegression()\n",
        "model.fit(X_train, y_train)\n",
        "\n",
        "y_pred_logistic = model.predict(X_test)\n",
        "\n",
        "end_time = time.time()\n",
        "execution_time = end_time - start_time\n",
        "current, peak = tracemalloc.get_traced_memory()\n",
        "\n",
        "mse_logistic = mean_squared_error(y_test, y_pred_logistic)\n",
        "rmse_logistic = mse_logistic**0.5\n",
        "r2_logistic = r2_score(y_test, y_pred_logistic)\n",
        "\n",
        "print(f\"Execution Time: {execution_time:.2f} seconds\")\n",
        "print(f\"Current memory usage: {current / 10**6:.2f} MB; Peak: {peak / 10**6:.2f} MB\")\n",
        "print(f\"Mean Squared Error (MSE): {mse_logistic}\")\n",
        "print(f\"Root Mean Squared Error (RMSE): {rmse_logistic}\")\n",
        "print(f\"R-squared (R2): {r2_logistic}\")\n",
        "\n",
        "joblib.dump(model, 'logistic_model.joblib')\n",
        "\n",
        "tracemalloc.stop()"
      ],
      "metadata": {
        "id": "qjMMInepx1g5",
        "colab": {
          "base_uri": "https://localhost:8080/"
        },
        "outputId": "e8b62b0e-454a-4e43-ef98-b1cd643e40f3"
      },
      "execution_count": 37,
      "outputs": [
        {
          "output_type": "stream",
          "name": "stdout",
          "text": [
            "[2025-04-17 12:58:05.826] [CUML] [warning] L-BFGS stopped, because the line search failed to advance (step delta = 0.000000)\n",
            "Execution Time: 769.21 seconds\n",
            "Current memory usage: 0.07 MB; Peak: 0.44 MB\n",
            "Mean Squared Error (MSE): 425.500562327749\n",
            "Root Mean Squared Error (RMSE): 20.627664975167427\n",
            "R-squared (R2): 0.1428696621104416\n"
          ]
        }
      ]
    },
    {
      "cell_type": "markdown",
      "source": [
        "# Plot Result"
      ],
      "metadata": {
        "id": "Q07XpDds-itp"
      }
    },
    {
      "cell_type": "code",
      "source": [
        "import matplotlib.pyplot as plt\n",
        "import numpy as np\n",
        "\n",
        "models = ['KNN', 'Logistic Regression', 'Random Forest', 'XGBoost']\n",
        "mse_values = [mse_knn, mse_logistic, mse_rf, mse_xgb]\n",
        "rmse_values = [rmse_knn, rmse_logistic, rmse_rf, rmse_xgb]\n",
        "r2_values = [r2_knn, r2_logistic, r2_rf, r2_xgb]\n",
        "\n",
        "\n",
        "plt.figure(figsize=(8, 6))\n",
        "plt.bar(models, mse_values, color='blue')\n",
        "plt.title('Model Comparison - Mean Squared Error (MSE)')\n",
        "plt.xlabel('Model')\n",
        "plt.ylabel('MSE')\n",
        "plt.show()\n",
        "\n",
        "\n",
        "plt.figure(figsize=(8, 6))\n",
        "plt.bar(models, rmse_values, color='green')\n",
        "plt.title('Model Comparison - Root Mean Squared Error (RMSE)')\n",
        "plt.xlabel('Model')\n",
        "plt.ylabel('RMSE')\n",
        "plt.show()\n",
        "\n",
        "\n",
        "plt.figure(figsize=(8, 6))\n",
        "plt.bar(models, r2_values, color='red')\n",
        "plt.title('Model Comparison - R-squared (R2)')\n",
        "plt.xlabel('Model')\n",
        "plt.ylabel('R2')\n",
        "plt.show()"
      ],
      "metadata": {
        "colab": {
          "base_uri": "https://localhost:8080/",
          "height": 1000
        },
        "id": "p-CK8Ma27g3m",
        "outputId": "c336626c-da42-4dbc-825b-d7f791afae21"
      },
      "execution_count": 38,
      "outputs": [
        {
          "output_type": "display_data",
          "data": {
            "text/plain": [
              "<Figure size 800x600 with 1 Axes>"
            ],
            "image/png": "[encoded data removed]"
          },
          "metadata": {}
        },
        {
          "output_type": "display_data",
          "data": {
            "text/plain": [
              "<Figure size 800x600 with 1 Axes>"
            ],
            "image/png": "[encoded data removed]"
          },
          "metadata": {}
        },
        {
          "output_type": "display_data",
          "data": {
            "text/plain": [
              "<Figure size 800x600 with 1 Axes>"
            ],
            "image/png": "[encoded data removed]"
          },
          "metadata": {}
        }
      ]
    },
    {
      "cell_type": "code",
      "source": [],
      "metadata": {
        "id": "pB1mFBQd8hwz"
      },
      "execution_count": null,
      "outputs": []
    }
  ]
}